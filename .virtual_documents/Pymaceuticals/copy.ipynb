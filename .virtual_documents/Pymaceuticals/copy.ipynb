


%matplotlib widget


# Dependencies and Setup
import matplotlib.pyplot as plt
import pandas as pd
import scipy.stats as st

# Study data files
mouse_metadata_path = "data/Mouse_metadata.csv"
study_results_path = "data/Study_results.csv"

# Read the mouse data and the study results
mouse_metadata = pd.read_csv(mouse_metadata_path)
study_results = pd.read_csv(study_results_path)

# Combine the data into a single DataFrame
clinical_data_df = pd.merge(mouse_metadata, study_results, on ='Mouse ID')
# Display the data table for preview
clinical_data_df.head()


# Checking the number of mice.
mice = clinical_data_df['Mouse ID'].nunique()
mice


# Our data should be uniquely identified by Mouse ID and Timepoint
# Get the duplicate mice by ID number that shows up for Mouse ID and Timepoint. 
duplicate_mice = clinical_data_df[clinical_data_df.duplicated(subset=['Mouse ID','Timepoint'],keep = False]
duplicate_mice_ids = duplicate_mice['Mouse ID'].unique()
duplicate_mice_ids



# Optional: Get all the data for the duplicate mouse ID. 
duplicate_mice_data = clinical_data_df[clinical_data_df['Mouse ID'].isin(duplicate_mice_ids)]
duplicate_mice_data


# Create a clean DataFrame by dropping the duplicate mouse by its ID.
clean_df = clinical_data_df[clinical_data_df['Mouse ID'].isin(duplicate_mice)==False]
clean_df.head()


# Checking the number of mice in the clean DataFrame.
mice_count = clean_df['Mouse ID'].nunique()
mice_count





# Generate a summary statistics table of mean, median, variance, standard deviation, and SEM of the tumor volume for each regimen

# Use groupby and summary statistical methods to calculate the following properties of each drug regimen: 
# mean, median, variance, standard deviation, and SEM of the tumor volume. 
# Assemble the resulting series into a single summary DataFrame.
grouped_data = clean_df.groupby('Drug Regimen')
# Calculate the required statistics
summary_stats = grouped_data.agg({'Tumor Volume (mm3)': ['mean', 'median', 'var', 'std', 'sem']})

# Flatten the multi-level column index
summary_stats.columns = ['_'.join(col).strip() for col in summary_stats.columns.values]
summary_stats


# A more advanced method to generate a summary statistics table of mean, median, variance, standard deviation,
# and SEM of the tumor volume for each regimen (only one method is required in the solution)

# Using the aggregation method, produce the same summary statistics in a single line
summary_statistics = clean_df.groupby('Drug Regimen').agg(
    mean=('Tumor Volume (mm3)', 'mean'),
    median=('Tumor Volume (mm3)', 'median'),
    variance=('Tumor Volume (mm3)', 'var'),
    std_dev=('Tumor Volume (mm3)', 'std'),
    sem=('Tumor Volume (mm3)', 'sem')
)
summary_statistics





# Generate a bar plot showing the total number of rows (Mouse ID/Timepoints) for each drug regimen using Pandas.
summary_statistics = plt.plot(Drug Regimen, summary_statistics, color='blue', label='Summary statistics')
plt.show()


# Generate a bar plot showing the total number of rows (Mouse ID/Timepoints) for each drug regimen using pyplot.



# Generate a pie plot showing the distribution of female versus male mice using Pandas



# Generate a pie plot showing the distribution of female versus male mice using pyplot






# Calculate the final tumor volume of each mouse across four of the treatment regimens:  
# Capomulin, Ramicane, Infubinol, and Ceftamin

# Start by getting the last (greatest) timepoint for each mouse


# Merge this group df with the original DataFrame to get the tumor volume at the last timepoint



# Put treatments into a list for for loop (and later for plot labels)


# Create empty list to fill with tumor vol data (for plotting)


# Calculate the IQR and quantitatively determine if there are any potential outliers. 

    
    # Locate the rows which contain mice on each drug and get the tumor volumes

    
    # add subset 

    
    # Determine outliers using upper and lower bounds



# Generate a box plot that shows the distrubution of the tumor volume for each treatment group.






# Generate a line plot of tumor volume vs. time point for a single mouse treated with Capomulin



# Generate a scatter plot of mouse weight vs. the average observed tumor volume for the entire Capomulin regimen






# Calculate the correlation coefficient and a linear regression model 
# for mouse weight and average observed tumor volume for the entire Capomulin regimen




