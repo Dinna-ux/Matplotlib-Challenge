


%matplotlib widget


# Dependencies and Setup
import matplotlib.pyplot as plt
import pandas as pd
import scipy.stats as st
import numpy as np


# Study data files
mouse_metadata_path = "data/Mouse_metadata.csv"
study_results_path = "data/Study_results.csv"

# Read the mouse data and the study results
mouse_metadata = pd.read_csv(mouse_metadata_path)
study_results = pd.read_csv(study_results_path)

# Display the data table for preview



#checking the 1st dataframe for corresponding columns
mouse_metadata.head()


##checking the 2nd dataframe for corresponding columns
study_results.head()



# Combine the data into a single DataFrame and displaying for preview
clinical_data_df = pd.merge(mouse_metadata, study_results, on ='Mouse ID')
clinical_data_df.head()


# Checking the number of mice.
mice = clinical_data_df['Mouse ID'].nunique()
mice



# Our data should be uniquely identified by Mouse ID and Timepoint
# Get the duplicate mice by ID number that shows up for Mouse ID and Timepoint. 
duplicate_mice_ID = clinical_data_df.loc[clinical_data_df.duplicated(subset=['Mouse ID', 'Timepoint']),'Mouse ID'].unique()
duplicate_mice_ID


# Optional: Get all the data for the duplicate mouse ID. The code below shows the Ids of the duplicates
duplicate_mice_data = clinical_data_df[clinical_data_df['Mouse ID'].isin(duplicate_mice_ID)]
duplicate_mice_data


# Create a clean DataFrame by dropping the duplicate mouse by its ID.The new data cleaned will be named clean_df. 
#The duplicates will be dropped on mouse ID, leaving unique entries for the new dataframe
clean_df = clinical_data_df[clinical_data_df['Mouse ID'].isin(duplicate_mice_ID)==False]
clean_df.head()


# Checking the number of mice in the clean DataFrame by creating unique entries of the Mouse ID
mice_count = clean_df['Mouse ID'].nunique()
mice_count





# Generate a summary statistics table of mean, median, variance, standard deviation, and SEM of the tumor volume for each regimen

# Use groupby and summary statistical methods to calculate the following properties of each drug regimen: 
# mean, median, variance, standard deviation, and SEM of the tumor volume. 
# Assemble the resulting series into a single summary DataFrame.
#group data by Drug Regimen
grouped_data = clean_df.groupby('Drug Regimen')
#calculate the summary statistics as requested above
summary_stats = grouped_data.agg({'Tumor Volume (mm3)': ['mean', 'median', 'var', 'std', 'sem']})
# Flatten the multi-level column index
summary_stats.columns = ['_'.join(col).strip() for col in summary_stats.columns.values]
summary_stats


# A more advanced method to generate a summary statistics table of mean, median, variance, standard deviation,
# and SEM of the tumor volume for each regimen (only one method is required in the solution)

# Using the aggregation method, produce the same summary statistics in a single line
summary_statistics = clean_df.groupby('Drug Regimen').agg(
    mean=('Tumor Volume (mm3)', 'mean'),
    median=('Tumor Volume (mm3)', 'median'),
    variance=('Tumor Volume (mm3)', 'var'),
    std_dev=('Tumor Volume (mm3)', 'std'),
    sem=('Tumor Volume (mm3)', 'sem')
)
summary_statistics





# Generate a bar plot showing the total number of rows (Mouse ID/Timepoints) for each drug regimen using Pandas.
#1st step #Count the number of datapoints
Drug_Regimen_rows = clean_df['Drug Regimen'].value_counts()
Drug_Regimen_rows


# Generate a bar plot showing the total number of rows (Mouse ID/Timepoints) for each drug regimen using Pandas.
Drug_Regimen_rows.plot(kind='bar',figsize=(6,4), color = 'SteelBlue')
#creating labels for the bar chat, title, xlabel,and ylabels
plt.xlabel('Drug Regimen')
plt.ylabel('# of Observed Mouse Timepoints')
#set xticks to 20 for clearer view
plt.xticks(rotation=90)
#showing the plot
plt.show()


# Generate a bar plot showing the total number of rows (Mouse ID/Timepoints) for each drug regimen using pyplot.
#exracting the drug regiment rows 
x_axis = Drug_Regimen_rows.index
y_axis = Drug_Regimen_rows.values
#creating the plot with fig size 8,8, green color,and center alignment
plt.figure(figsize=(6, 4))
plt.bar(x_axis, y_axis, color='steelblue', align='center')
#adding labels and titles
plt.xlabel("Drug Regimen")
plt.ylabel("# of Observed Mouse Timepoints")
#set xticks to 20 for clearer view of the xlabels
plt.xticks(rotation=90)
#show the plot
plt.show()



# Generate a pie plot showing the distribution of female versus male mice using Pandas
# Calculate the count of male and female mice
plt.figure()
gender_counts = clean_df['Sex'].value_counts()
# Plot the pie chart using Pandas
gender_counts.plot.pie(autopct="%1.1f%%",shadow=False)
plt.ylabel("sex")
plt.show()


# Generate a pie plot showing the distribution of female versus male mice using pyplot
labels = ['Male','Female']
sizes = [49, 50]
plt.pie(sizes, labels=labels, autopct = '%1.1f%%')
plt.ylabel("sex")
plt.show()





# Calculate the final tumor volume of each mouse across four of the treatment regimens:  
# Capomulin, Ramicane, Infubinol, and Ceftamin

# Filter the DataFrame for the four of the most promising treatment regimens
most_promising_treatment = ['Capomulin', 'Ramicane', 'Infubinol', 'Ceftamin']
filtered_df = clean_df[clean_df['Drug Regimen'].isin(most_promising_treatment)]

# Group by mouse ID and find the last (greatest) timepoint for each mouse
max_timepoint = filtered_df.groupby('Mouse ID')['Timepoint'].max()

# Merge with the original DataFrame to get tumor volume at the last timepoint
Merged_df = pd.merge(max_timepoint.reset_index(), filtered_df, how='left', on=['Mouse ID', 'Timepoint'])[['Mouse ID', 'Tumor Volume (mm3)']]
Merged_df




# List of treatments for the for loop and plot labels
treatments = ['Capomulin', 'Ramicane', 'Infubinol', 'Ceftamin']

# Create an empty list to fill with tumor volume data for plotting
tumor_vol_df = []

# Loop through each treatment
for treatment in treatments:
    # Filter the data for the current treatment
    treatment_df = clean_df[clean_df['Drug Regimen'] == treatment]['Tumor Volume (mm3)']
    
    # Append the tumor volume data to the list
    tumor_vol_df.append(treatment_df)
    
    # Calculate quartiles, IQR, upper bound, and lower bounds
    quartiles = treatment_data.quantile([0.25, 0.5, 0.75])
    lower_quartile = quartiles[0.25]
    upper_quartile = quartiles[0.75]
    iqr = upper_quartile - lower_quartile
    
    # Calculate lower and upper bounds for outliers
    lower_bound = lower_quartile - 1.5 * iqr
    upper_bound = upper_quartile + 1.5 * iqr
    
    # Locating potential outliers
    outliers = treatment_df[(treatment_df < lower_bound) | (treatment_df > upper_bound)]
    
    # Print results
    print(f"Results for {treatment}:")
    print(f"  Lower Quartile: {lower_quartile}")
    print(f"  Upper Quartile: {upper_quartile}")
    print(f"  Interquartile Range (IQR): {iqr}")
    print(f"  Lower Bound: {lower_bound}")
    print(f"  Upper Bound: {upper_bound}")
    print(f"  Potential Outliers: {outliers.tolist()}\n")



# Generate a box plot that shows the distrubution of the tumor volume for each treatment group.
# Create a box plot
figure, ax1 = plt.subplots()
ax1.boxplot(tumor_vol_df, labels=treatments)

# Add x_label, y_label and title
ax1.set_xlabel('Treatment')
ax1.set_ylabel('Tumor Volume (mm3)')
#show plot
plt.show()





#Display filtered data to select a single mouse treated with capomulin
Capomulin_df = clean_df[clean_df['Drug Regimen'] == 'Capomulin']
Capomulin_df.head()


# Generate a line plot of tumor volume vs. time point for a single mouse treated with Capomulin
#Filter the data for mice treated with Capomulin
Capomulin_df = clean_df[clean_df['Drug Regimen'] == 'Capomulin']
#Choose a single mouse ID from the filtered data, and also as shown on the sample plot
mouse_id = 'l509'  
# Filter data for the chosen mouse
mouse_data = Capomulin_df[Capomulin_df['Mouse ID'] == mouse_id]

plt.plot(mouse_data['Timepoint'], mouse_data['Tumor Volume (mm3)'], color='steelblue', linestyle='-')

# Add x_label, y_label and title
plt.xlabel('Timepoint(days)')
plt.ylabel('Tumor Volume (mm3)')
plt.title('Capomulin treatment of mouse l509')
# Show plot
plt.show()


# Generate a scatter plot of mouse weight vs. the average observed tumor volume for the entire Capomulin regimen
#Filter the DataFrame for mice treated with Capomulin
capomulin_data = clean_df[clean_df['Drug Regimen'] == 'Capomulin']

#Group by mouse ID and calculate the average tumor volume
average_tumor_volume = capomulin_data.groupby('Mouse ID')['Tumor Volume (mm3)'].mean()

#Merge average tumor volume with mouse weight data
merged_df = pd.merge(average_tumor_volume, capomulin_data[['Mouse ID', 'Weight (g)']], on='Mouse ID').drop_duplicates()

#Creating the plot
plt.figure(figsize=(10, 6))
plt.scatter(merged_df['Weight (g)'], merged_df['Tumor Volume (mm3)'], color='steelblue', alpha=1)

# Add x_label, y_label and title
plt.xlabel('Weight (g)')
plt.ylabel('Average Tumor Volume (mm3)')

#Show plot
plt.show()





# Calculate the correlation coefficient and a linear regression model 
# for mouse weight and average observed tumor volume for the entire Capomulin regimen
# Step 1: Filter the DataFrame for mice treated with Capomulin
capomulin_df = clean_df[clean_df['Drug Regimen'] == 'Capomulin']

# Step 2: Group by mouse ID and calculate the average tumor volume
average_tumor_volume = capomulin_df.groupby('Mouse ID')['Tumor Volume (mm3)'].mean()

# Step 3: Merge average tumor volume with mouse weight data
merged_data = pd.merge(average_tumor_volume, capomulin_data[['Mouse ID', 'Weight (g)']], on='Mouse ID').drop_duplicates()

# Step 4: Calculate correlation coefficient
correlation_coefficient = np.corrcoef(merged_data['Weight (g)'], merged_data['Tumor Volume (mm3)'])[0, 1]

# Step 5: Perform linear regression
slope, intercept, r_value, p_value, std_err = linregress(merged_df['Weight (g)'], merged_df['Tumor Volume (mm3)'])

# Step 6: Plot the scatter plot with regression line
plt.figure(figsize=(10, 6))
plt.scatter(merged_df['Weight (g)'], merged_df['Tumor Volume (mm3)'], color='b', alpha=0.75)

# Add regression line
plt.plot(merged_df['Weight (g)'], intercept + slope * merged_df['Weight (g)'], color='r', linestyle='-', label='Regression Line')

# Add labels and title
plt.xlabel('Weight (g)')
plt.ylabel('Average Tumor Volume (mm3)')
plt.title('Mouse Weight vs. Average Tumor Volume (Capomulin Regimen)')

# Show correlation coefficient in the plot
plt.text(20, 40, f'Correlation Coefficient: {correlation_coefficient:.2f}', fontsize=12)

# Show grid and legend
plt.legend()

# Show plot
plt.show()



